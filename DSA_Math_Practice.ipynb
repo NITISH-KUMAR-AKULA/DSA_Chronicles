{
  "cells": [
    {
      "cell_type": "markdown",
      "id": "fe311a02",
      "metadata": {
        "id": "fe311a02"
      },
      "source": [
        "# 🧠 Python Logic Practice – GitHub Submission\n",
        "A collection of beginner-to-intermediate Python problems with logic explanations and clean implementations.\n"
      ]
    },
    {
      "cell_type": "markdown",
      "id": "b5e30991",
      "metadata": {
        "id": "b5e30991"
      },
      "source": [
        "## ✅ Question 1: Smallest Positive Integer That Is a Multiple of Both 2 and n\n",
        "**Problem:** Given a positive integer n, return the smallest positive integer that is a multiple of both 2 and n.\n",
        "\n",
        "**Logic:**\n",
        "- If n is even, then n itself is divisible by 2 → smallest multiple is n.\n",
        "- If n is odd, then the smallest even multiple of n is 2 * n.\n"
      ]
    },
    {
      "cell_type": "code",
      "execution_count": 1,
      "id": "d76dd819",
      "metadata": {
        "colab": {
          "base_uri": "https://localhost:8080/"
        },
        "id": "d76dd819",
        "outputId": "f940ea26-be48-42c8-b9b5-297e7f96a240"
      },
      "outputs": [
        {
          "output_type": "stream",
          "name": "stdout",
          "text": [
            "Enter a positive integer: 4\n",
            "Smallest number: 4\n"
          ]
        }
      ],
      "source": [
        "n = int(input(\"Enter a positive integer: \"))\n",
        "if n % 2 == 0:\n",
        "    print(\"Smallest number:\", n)\n",
        "else:\n",
        "    print(\"Smallest number:\", 2 * n)"
      ]
    },
    {
      "cell_type": "markdown",
      "id": "febd4cb1",
      "metadata": {
        "id": "febd4cb1"
      },
      "source": [
        "## ✅ Question 2: Difference Between Product and Sum of Digits\n",
        "**Problem:** Given an integer n, return the difference between the product of its digits and the sum of its digits.\n",
        "\n",
        "### 🔹 Method 1: Using Type Casting (str → int)"
      ]
    },
    {
      "cell_type": "code",
      "execution_count": 2,
      "id": "3d1fd254",
      "metadata": {
        "colab": {
          "base_uri": "https://localhost:8080/"
        },
        "id": "3d1fd254",
        "outputId": "a7e78140-9436-4f36-cf05-cae9583244e7"
      },
      "outputs": [
        {
          "output_type": "stream",
          "name": "stdout",
          "text": [
            "Enter a number: 5\n",
            "Product: 5\n",
            "Sum: 5\n",
            "Difference: 0\n"
          ]
        }
      ],
      "source": [
        "n = int(input(\"Enter a number: \"))\n",
        "str_conv = str(n)\n",
        "sums = 0\n",
        "prod = 1\n",
        "for i in str_conv:\n",
        "    digit = int(i)\n",
        "    sums += digit\n",
        "    prod *= digit\n",
        "print(\"Product:\", prod)\n",
        "print(\"Sum:\", sums)\n",
        "print(\"Difference:\", prod - sums)"
      ]
    },
    {
      "cell_type": "markdown",
      "id": "7845a89b",
      "metadata": {
        "id": "7845a89b"
      },
      "source": [
        "### 🔹 Method 2: Without Type Casting (Pure Math)\n"
      ]
    },
    {
      "cell_type": "code",
      "execution_count": 3,
      "id": "ba15a772",
      "metadata": {
        "colab": {
          "base_uri": "https://localhost:8080/"
        },
        "id": "ba15a772",
        "outputId": "51480278-89c8-4593-d5fc-84d0a1a2b0ac"
      },
      "outputs": [
        {
          "output_type": "stream",
          "name": "stdout",
          "text": [
            "Enter a number: 45\n",
            "Product: 20\n",
            "Sum: 9\n",
            "Difference: 11\n"
          ]
        }
      ],
      "source": [
        "n = int(input(\"Enter a number: \"))\n",
        "sums = 0\n",
        "prod = 1\n",
        "while n > 0:\n",
        "    digit = n % 10\n",
        "    sums += digit\n",
        "    prod *= digit\n",
        "    n = n // 10\n",
        "print(\"Product:\", prod)\n",
        "print(\"Sum:\", sums)\n",
        "print(\"Difference:\", prod - sums)"
      ]
    },
    {
      "cell_type": "markdown",
      "id": "80961f64",
      "metadata": {
        "id": "80961f64"
      },
      "source": [
        "## ✅ Question 3: Find Missing Number in Range(0, n)\n",
        "**Problem:** Given a list of n distinct numbers in the range [0, n], return the single missing number.\n"
      ]
    },
    {
      "cell_type": "code",
      "execution_count": 4,
      "id": "4c9618fc",
      "metadata": {
        "colab": {
          "base_uri": "https://localhost:8080/"
        },
        "id": "4c9618fc",
        "outputId": "a098394c-8cdc-4472-9561-53e01b0d8772"
      },
      "outputs": [
        {
          "output_type": "stream",
          "name": "stdout",
          "text": [
            "Enter the range limit n: 32\n",
            "Enter the numbers separated by commas: 1,4,3,4,2\n",
            "Missing Value: 0\n"
          ]
        }
      ],
      "source": [
        "n = int(input(\"Enter the range limit n: \"))\n",
        "num = list(map(int, input(\"Enter the numbers separated by commas: \").split(',')))\n",
        "for i in range(n + 1):\n",
        "    if i not in num:\n",
        "        print(\"Missing Value:\", i)\n",
        "        break"
      ]
    },
    {
      "cell_type": "markdown",
      "id": "9af772c0",
      "metadata": {
        "id": "9af772c0"
      },
      "source": [
        "## ✅ Question 4: Maximize Number by Changing One Digit (6 ↔ 9)\n",
        "**Problem:** Given a positive integer consisting only of digits 6 and 9, return the maximum number possible by changing only one digit (either 6 → 9 or 9 → 6).\n",
        "\n",
        "### 🔹 Method 1: Using str.replace()"
      ]
    },
    {
      "cell_type": "code",
      "execution_count": 5,
      "id": "02b7de56",
      "metadata": {
        "colab": {
          "base_uri": "https://localhost:8080/"
        },
        "id": "02b7de56",
        "outputId": "b26d3ef0-86ad-401c-faaf-d9b69647bf4b"
      },
      "outputs": [
        {
          "output_type": "stream",
          "name": "stdout",
          "text": [
            "Enter a number with digits 6 and 9: 696996\n",
            "996996\n"
          ]
        }
      ],
      "source": [
        "n = input(\"Enter a number with digits 6 and 9: \")\n",
        "print(int(n.replace('6', '9', 1)))"
      ]
    },
    {
      "cell_type": "markdown",
      "id": "44e50f9d",
      "metadata": {
        "id": "44e50f9d"
      },
      "source": [
        "### 🔹 Method 2: Manual Replacement\n"
      ]
    },
    {
      "cell_type": "code",
      "execution_count": 9,
      "id": "3c0c5072",
      "metadata": {
        "colab": {
          "base_uri": "https://localhost:8080/"
        },
        "id": "3c0c5072",
        "outputId": "0c6026cc-52e1-41f2-adbd-59c7c87121ae"
      },
      "outputs": [
        {
          "output_type": "stream",
          "name": "stdout",
          "text": [
            "Enter a number with digits 6 and 9: 6969699\n",
            "Maximized number: 9969699\n"
          ]
        }
      ],
      "source": [
        "n = input(\"Enter a number with digits 6 and 9: \")\n",
        "flag = 0\n",
        "ans = ''\n",
        "for i in n:\n",
        "    if i == '6' and flag == 0:\n",
        "        ans += '9'\n",
        "        flag = 1\n",
        "    else:\n",
        "        ans += i\n",
        "print(\"Maximized number:\", ans)"
      ]
    },
    {
      "cell_type": "markdown",
      "id": "16f5673b",
      "metadata": {
        "id": "16f5673b"
      },
      "source": [
        "## ✅ Question 5: Count Common Factors of Two Numbers\n",
        "**Problem:** Given two positive integers A and B, find the number of common factors they share.\n"
      ]
    },
    {
      "cell_type": "code",
      "execution_count": 8,
      "id": "0550e465",
      "metadata": {
        "colab": {
          "base_uri": "https://localhost:8080/"
        },
        "id": "0550e465",
        "outputId": "3e26fba7-1a5b-4e1b-f202-c0cfe2f7701d"
      },
      "outputs": [
        {
          "output_type": "stream",
          "name": "stdout",
          "text": [
            "Enter first number: 4\n",
            "Enter second number: 6\n",
            "Number of common factors: 2\n"
          ]
        }
      ],
      "source": [
        "a = int(input(\"Enter first number: \"))\n",
        "b = int(input(\"Enter second number: \"))\n",
        "count = 0\n",
        "limit = min(a, b)\n",
        "for i in range(1, limit + 1):\n",
        "    if a % i == 0 and b % i == 0:\n",
        "        count += 1\n",
        "print(\"Number of common factors:\", count)"
      ]
    },
    {
      "cell_type": "code",
      "source": [],
      "metadata": {
        "id": "bTziq3pZ3jIL"
      },
      "id": "bTziq3pZ3jIL",
      "execution_count": null,
      "outputs": []
    }
  ],
  "metadata": {
    "colab": {
      "provenance": []
    },
    "language_info": {
      "name": "python"
    },
    "kernelspec": {
      "name": "python3",
      "display_name": "Python 3"
    }
  },
  "nbformat": 4,
  "nbformat_minor": 5
}