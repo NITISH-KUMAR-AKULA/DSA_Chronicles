{
 "cells": [
  {
   "cell_type": "markdown",
   "id": "e1997763",
   "metadata": {},
   "source": [
    "# 🧠 DSA Practice Notebook — Day 1\n",
    "**Author:** Nitish | *Mythic-Tech Explorer*\n",
    "\n",
    "This notebook documents my Day 1 journey of practicing core DSA and Python concepts.  \n",
    "It includes variable rules, arithmetic operators, loops, conditionals, and some mini assignments.\n",
    "\n",
    "---\n",
    "\n",
    "## 📌 Topics Covered\n",
    "- Variable Rules  \n",
    "- Arithmetic Operators  \n",
    "- input() Function  \n",
    "- Even/Odd Check  \n",
    "- for Loop Iterations  \n",
    "- print() Function  \n",
    "- Factorial Calculation  \n",
    "- Sum of N Numbers (Loop & Formula)  \n",
    "- Multiples of N and Count  \n",
    "- Assignments: Calculator & Multiplication Table  \n",
    "\n",
    "---\n"
   ]
  },
  {
   "cell_type": "markdown",
   "id": "615f0877",
   "metadata": {},
   "source": [
    "## 1️⃣ Variable Rules"
   ]
  },
  {
   "cell_type": "code",
   "execution_count": 3,
   "id": "5ce9a910",
   "metadata": {},
   "outputs": [
    {
     "name": "stdout",
     "output_type": "stream",
     "text": [
      "Nitish 25\n"
     ]
    }
   ],
   "source": [
    "# Variables must start with a letter or underscore\n",
    "name = \"Nitish\"\n",
    "_age = 25\n",
    "\n",
    "# Invalid example (uncomment to see error)\n",
    "# 2name = \"Error\"\n",
    "print(name, _age)"
   ]
  },
  {
   "cell_type": "markdown",
   "id": "7f7e062b",
   "metadata": {},
   "source": [
    "## 2️⃣ Arithmetic Operators"
   ]
  },
  {
   "cell_type": "code",
   "execution_count": 5,
   "id": "bd5f3347",
   "metadata": {},
   "outputs": [
    {
     "name": "stdout",
     "output_type": "stream",
     "text": [
      "Addition: 13\n",
      "Subtraction: 7\n",
      "Multiplication: 30\n",
      "Division: 3.3333333333333335\n",
      "Floor Division: 3\n",
      "Modulus: 1\n",
      "Exponent: 1000\n"
     ]
    }
   ],
   "source": [
    "a = 10\n",
    "b = 3\n",
    "print(\"Addition:\", a + b)\n",
    "print(\"Subtraction:\", a - b)\n",
    "print(\"Multiplication:\", a * b)\n",
    "print(\"Division:\", a / b)\n",
    "print(\"Floor Division:\", a // b)\n",
    "print(\"Modulus:\", a % b)\n",
    "print(\"Exponent:\", a ** b)"
   ]
  },
  {
   "cell_type": "markdown",
   "id": "9a763476",
   "metadata": {},
   "source": [
    "## 3️⃣ input() Function Example"
   ]
  },
  {
   "cell_type": "code",
   "execution_count": 7,
   "id": "fd4f9312",
   "metadata": {},
   "outputs": [],
   "source": [
    "# Example of input() function\n",
    "# Uncomment to test interactively\n",
    "# user_name = input(\"Enter your name: \")\n",
    "# print(\"Welcome,\", user_name)"
   ]
  },
  {
   "cell_type": "markdown",
   "id": "2ec7f3cd",
   "metadata": {},
   "source": [
    "## 4️⃣ Check Even or Odd"
   ]
  },
  {
   "cell_type": "code",
   "execution_count": 19,
   "id": "91557581",
   "metadata": {},
   "outputs": [
    {
     "name": "stdin",
     "output_type": "stream",
     "text": [
      "Enter a number:  34\n"
     ]
    },
    {
     "name": "stdout",
     "output_type": "stream",
     "text": [
      "Even\n"
     ]
    }
   ],
   "source": [
    "num = int(input(\"Enter a number: \"))\n",
    "if num % 2 == 0:\n",
    "    print(\"Even\")\n",
    "else:\n",
    "    print(\"Odd\")"
   ]
  },
  {
   "cell_type": "markdown",
   "id": "b4188bb5",
   "metadata": {},
   "source": [
    "## 5️⃣ for Loop Iteration"
   ]
  },
  {
   "cell_type": "code",
   "execution_count": 22,
   "id": "1d75b08e",
   "metadata": {},
   "outputs": [
    {
     "name": "stdout",
     "output_type": "stream",
     "text": [
      "Iteration: 1\n",
      "Iteration: 2\n",
      "Iteration: 3\n",
      "Iteration: 4\n",
      "Iteration: 5\n"
     ]
    }
   ],
   "source": [
    "for i in range(1, 6):\n",
    "    print(\"Iteration:\", i)"
   ]
  },
  {
   "cell_type": "markdown",
   "id": "e2a917ce",
   "metadata": {},
   "source": [
    "## 6️⃣ print() Function"
   ]
  },
  {
   "cell_type": "code",
   "execution_count": 25,
   "id": "b1ccbe15",
   "metadata": {},
   "outputs": [
    {
     "name": "stdout",
     "output_type": "stream",
     "text": [
      "Hello, world!\n",
      "Sum of 2 + 3 = 5\n"
     ]
    }
   ],
   "source": [
    "print(\"Hello, world!\")\n",
    "print(\"Sum of 2 + 3 =\", 2 + 3)"
   ]
  },
  {
   "cell_type": "markdown",
   "id": "decb7d74",
   "metadata": {},
   "source": [
    "## 7️⃣ Factorial Using Loop"
   ]
  },
  {
   "cell_type": "code",
   "execution_count": 28,
   "id": "c11fe893",
   "metadata": {},
   "outputs": [
    {
     "name": "stdin",
     "output_type": "stream",
     "text": [
      "Enter a number:  4\n"
     ]
    },
    {
     "name": "stdout",
     "output_type": "stream",
     "text": [
      "Factorial of 4 is 24\n"
     ]
    }
   ],
   "source": [
    "n = int(input(\"Enter a number: \"))\n",
    "fact = 1\n",
    "for i in range(1, n + 1):\n",
    "    fact *= i\n",
    "print(\"Factorial of\", n, \"is\", fact)"
   ]
  },
  {
   "cell_type": "markdown",
   "id": "4bc72335",
   "metadata": {},
   "source": [
    "## 8️⃣ Sum of N Numbers"
   ]
  },
  {
   "cell_type": "code",
   "execution_count": 33,
   "id": "e365e09e",
   "metadata": {},
   "outputs": [
    {
     "name": "stdin",
     "output_type": "stream",
     "text": [
      "Enter n:  4\n"
     ]
    },
    {
     "name": "stdout",
     "output_type": "stream",
     "text": [
      "Sum using loop: 10\n",
      "Sum using formula: 10\n"
     ]
    }
   ],
   "source": [
    "n = int(input(\"Enter n: \"))\n",
    "# Using loop\n",
    "total = 0\n",
    "for i in range(1, n + 1):\n",
    "    total += i\n",
    "print(\"Sum using loop:\", total)\n",
    "\n",
    "# Using formula\n",
    "formula_sum = n * (n + 1) // 2\n",
    "print(\"Sum using formula:\", formula_sum)"
   ]
  },
  {
   "cell_type": "markdown",
   "id": "9179ec0f",
   "metadata": {},
   "source": [
    "## 9️⃣ Multiples of N and Count"
   ]
  },
  {
   "cell_type": "code",
   "execution_count": 39,
   "id": "af5c9688",
   "metadata": {},
   "outputs": [
    {
     "name": "stdin",
     "output_type": "stream",
     "text": [
      "Enter a number:  10\n",
      "Enter limit:  23\n"
     ]
    },
    {
     "name": "stdout",
     "output_type": "stream",
     "text": [
      "10 is a multiple of 10\n",
      "20 is a multiple of 10\n",
      "Total multiples: 2\n"
     ]
    }
   ],
   "source": [
    "n = int(input(\"Enter a number: \"))\n",
    "limit = int(input(\"Enter limit: \"))\n",
    "count = 0\n",
    "for i in range(1, limit + 1):\n",
    "    if i % n == 0:\n",
    "        print(i, \"is a multiple of\", n)\n",
    "        count += 1\n",
    "print(\"Total multiples:\", count)"
   ]
  },
  {
   "cell_type": "markdown",
   "id": "13168afb",
   "metadata": {},
   "source": [
    "## 🔟 Assignment: Calculator"
   ]
  },
  {
   "cell_type": "code",
   "execution_count": 42,
   "id": "8961a5d1",
   "metadata": {},
   "outputs": [
    {
     "name": "stdin",
     "output_type": "stream",
     "text": [
      "Enter first number:  4\n",
      "Enter second number:  2\n",
      "Enter operator (+, -, *, /):  +\n"
     ]
    },
    {
     "name": "stdout",
     "output_type": "stream",
     "text": [
      "Result: 6\n"
     ]
    }
   ],
   "source": [
    "a = int(input(\"Enter first number: \"))\n",
    "b = int(input(\"Enter second number: \"))\n",
    "op = input(\"Enter operator (+, -, *, /): \")\n",
    "\n",
    "if op == '+':\n",
    "    print(\"Result:\", a + b)\n",
    "elif op == '-':\n",
    "    print(\"Result:\", a - b)\n",
    "elif op == '*':\n",
    "    print(\"Result:\", a * b)\n",
    "elif op == '/':\n",
    "    print(\"Result:\", a / b)\n",
    "else:\n",
    "    print(\"Invalid operator\")"
   ]
  },
  {
   "cell_type": "markdown",
   "id": "307dc8ed",
   "metadata": {},
   "source": [
    "## 🔢 Assignment: Multiplication Table"
   ]
  },
  {
   "cell_type": "code",
   "execution_count": 45,
   "id": "40b1e949",
   "metadata": {},
   "outputs": [
    {
     "name": "stdin",
     "output_type": "stream",
     "text": [
      "Enter a number:  3\n"
     ]
    },
    {
     "name": "stdout",
     "output_type": "stream",
     "text": [
      "3 x 1 = 3\n",
      "3 x 2 = 6\n",
      "3 x 3 = 9\n",
      "3 x 4 = 12\n",
      "3 x 5 = 15\n",
      "3 x 6 = 18\n",
      "3 x 7 = 21\n",
      "3 x 8 = 24\n",
      "3 x 9 = 27\n",
      "3 x 10 = 30\n"
     ]
    }
   ],
   "source": [
    "n = int(input(\"Enter a number: \"))\n",
    "for i in range(1, 11):\n",
    "    print(f\"{n} x {i} = {n * i}\")"
   ]
  },
  {
   "cell_type": "code",
   "execution_count": null,
   "id": "81d81f64-556d-43bb-81d7-7104598c43d1",
   "metadata": {},
   "outputs": [],
   "source": []
  }
 ],
 "metadata": {
  "kernelspec": {
   "display_name": "Python [conda env:Anaconda]",
   "language": "python",
   "name": "conda-env-Anaconda-py"
  },
  "language_info": {
   "codemirror_mode": {
    "name": "ipython",
    "version": 3
   },
   "file_extension": ".py",
   "mimetype": "text/x-python",
   "name": "python",
   "nbconvert_exporter": "python",
   "pygments_lexer": "ipython3",
   "version": "3.12.7"
  }
 },
 "nbformat": 4,
 "nbformat_minor": 5
}
