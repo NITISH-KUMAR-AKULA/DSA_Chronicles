{
 "cells": [
  {
   "cell_type": "markdown",
   "id": "6a9468fd",
   "metadata": {},
   "source": [
    "# 📘 DSA Session 3 - Strings and Lists\n",
    "\n",
    "This notebook contains explanations and practice examples from Session 3 of DSA learning. Each concept is explained step by step with examples, just like a practice log."
   ]
  },
  {
   "cell_type": "markdown",
   "id": "e6c423c0",
   "metadata": {},
   "source": [
    "## 1. Strings\n",
    "A **string** is a sequence of characters enclosed in quotes (`' '` or `\" \"`). Strings are immutable, meaning once created they cannot be changed."
   ]
  },
  {
   "cell_type": "code",
   "execution_count": 1,
   "id": "c51d0548",
   "metadata": {},
   "outputs": [
    {
     "name": "stdout",
     "output_type": "stream",
     "text": [
      "Hello World\n",
      "Data Science\n",
      "Type of s1: <class 'str'>\n"
     ]
    }
   ],
   "source": [
    "# Example: Creating and printing strings\n",
    "s1 = \"Hello World\"\n",
    "s2 = 'Data Science'\n",
    "print(s1)\n",
    "print(s2)\n",
    "print(\"Type of s1:\", type(s1))"
   ]
  },
  {
   "cell_type": "markdown",
   "id": "21d06745",
   "metadata": {},
   "source": [
    "### 1.1 Indexing in Strings\n",
    "Each character has a position (index). Python uses **0-based indexing**.\n",
    "- Positive index starts from 0\n",
    "- Negative index starts from -1 (from the end)"
   ]
  },
  {
   "cell_type": "code",
   "execution_count": 2,
   "id": "b31900c2",
   "metadata": {},
   "outputs": [
    {
     "name": "stdout",
     "output_type": "stream",
     "text": [
      "First character (s[0]): P\n",
      "Third character (s[2]): t\n",
      "Last character (s[-1]): n\n",
      "Second last character (s[-2]): o\n"
     ]
    }
   ],
   "source": [
    "s = \"Python\"\n",
    "print(\"First character (s[0]):\", s[0])\n",
    "print(\"Third character (s[2]):\", s[2])\n",
    "print(\"Last character (s[-1]):\", s[-1])\n",
    "print(\"Second last character (s[-2]):\", s[-2])"
   ]
  },
  {
   "cell_type": "markdown",
   "id": "a6449d32",
   "metadata": {},
   "source": [
    "### 1.2 Membership Operator in Strings\n",
    "We can check if a character or substring exists inside a string using `in` and `not in`. Returns `True` or `False`."
   ]
  },
  {
   "cell_type": "code",
   "execution_count": 3,
   "id": "00dbd024",
   "metadata": {},
   "outputs": [
    {
     "name": "stdout",
     "output_type": "stream",
     "text": [
      "'Data' in s: True\n",
      "'Python' in s: False\n",
      "'Algo' not in s: True\n"
     ]
    }
   ],
   "source": [
    "s = \"Data Structures\"\n",
    "print(\"'Data' in s:\", \"Data\" in s)\n",
    "print(\"'Python' in s:\", \"Python\" in s)\n",
    "print(\"'Algo' not in s:\", \"Algo\" not in s)"
   ]
  },
  {
   "cell_type": "markdown",
   "id": "c91f3fa2",
   "metadata": {},
   "source": [
    "### 1.3 Slicing Strings\n",
    "We can extract a substring using slicing.\n",
    "Syntax: `string[start:end:step]`\n",
    "- `start`: starting index (inclusive)\n",
    "- `end`: ending index (exclusive)\n",
    "- `step`: gap between characters"
   ]
  },
  {
   "cell_type": "code",
   "execution_count": 4,
   "id": "e2d8a736",
   "metadata": {},
   "outputs": [
    {
     "name": "stdout",
     "output_type": "stream",
     "text": [
      "First 4 chars: Data\n",
      "From 4th index to end: Science\n",
      "Every 2nd char: DtSine\n",
      "Reversed: ecneicSataD\n"
     ]
    }
   ],
   "source": [
    "s = \"DataScience\"\n",
    "print(\"First 4 chars:\", s[0:4])   # 'Data'\n",
    "print(\"From 4th index to end:\", s[4:])  # 'Science'\n",
    "print(\"Every 2nd char:\", s[::2])  # 'DtSine'\n",
    "print(\"Reversed:\", s[::-1])"
   ]
  },
  {
   "cell_type": "markdown",
   "id": "7c8e6b8b",
   "metadata": {},
   "source": [
    "## 2. Lists\n",
    "A **list** is an ordered collection of items (can be different data types). Lists are mutable, meaning we can change them after creation."
   ]
  },
  {
   "cell_type": "code",
   "execution_count": 5,
   "id": "0136cd57",
   "metadata": {},
   "outputs": [
    {
     "name": "stdout",
     "output_type": "stream",
     "text": [
      "[10, 20, 30, 40, 50]\n",
      "[1, 'hello', 3.14, True]\n",
      "Type of numbers: <class 'list'>\n"
     ]
    }
   ],
   "source": [
    "# Example: Creating and printing lists\n",
    "numbers = [10, 20, 30, 40, 50]\n",
    "mixed = [1, \"hello\", 3.14, True]\n",
    "print(numbers)\n",
    "print(mixed)\n",
    "print(\"Type of numbers:\", type(numbers))"
   ]
  },
  {
   "cell_type": "markdown",
   "id": "43bb5857",
   "metadata": {},
   "source": [
    "### 2.1 Lists vs Arrays\n",
    "- **Lists** can store different data types, flexible but not memory-efficient for large numerical data.\n",
    "- **Arrays** (from NumPy) are optimized for numerical operations."
   ]
  },
  {
   "cell_type": "code",
   "execution_count": 6,
   "id": "b7a79bc2",
   "metadata": {},
   "outputs": [
    {
     "name": "stdout",
     "output_type": "stream",
     "text": [
      "List: [1, 2, 3, 4, 5]\n",
      "Array: [1 2 3 4 5]\n",
      "List type: <class 'list'>\n",
      "Array type: <class 'numpy.ndarray'>\n"
     ]
    }
   ],
   "source": [
    "import numpy as np\n",
    "list_ex = [1, 2, 3, 4, 5]\n",
    "array_ex = np.array([1, 2, 3, 4, 5])\n",
    "print(\"List:\", list_ex)\n",
    "print(\"Array:\", array_ex)\n",
    "print(\"List type:\", type(list_ex))\n",
    "print(\"Array type:\", type(array_ex))"
   ]
  },
  {
   "cell_type": "markdown",
   "id": "8471f333",
   "metadata": {},
   "source": [
    "### 2.2 Break Statement\n",
    "`break` is used to exit the loop immediately when a condition is met."
   ]
  },
  {
   "cell_type": "code",
   "execution_count": 7,
   "id": "861d62cc",
   "metadata": {},
   "outputs": [
    {
     "name": "stdout",
     "output_type": "stream",
     "text": [
      "Current num: 1\n",
      "Current num: 2\n",
      "Breaking at: 3\n"
     ]
    }
   ],
   "source": [
    "for num in [1, 2, 3, 4, 5]:\n",
    "    if num == 3:\n",
    "        print(\"Breaking at:\", num)\n",
    "        break\n",
    "    print(\"Current num:\", num)"
   ]
  },
  {
   "cell_type": "markdown",
   "id": "42b229b4",
   "metadata": {},
   "source": [
    "### 2.3 Attributes & Methods of Lists\n",
    "Lists have many useful methods:\n",
    "- `append(x)` → Add element at end\n",
    "- `insert(i, x)` → Insert at position\n",
    "- `remove(x)` → Remove first occurrence\n",
    "- `pop(i)` → Remove element at index\n",
    "- `sort()` → Sort list\n",
    "- `reverse()` → Reverse order\n",
    "- `count(x)` → Count occurrences\n",
    "- `index(x)` → Find index of element"
   ]
  },
  {
   "cell_type": "code",
   "execution_count": 8,
   "id": "8be1cf3b",
   "metadata": {},
   "outputs": [
    {
     "name": "stdout",
     "output_type": "stream",
     "text": [
      "Original: ['apple', 'banana', 'cherry']\n",
      "After append: ['apple', 'banana', 'cherry', 'mango']\n",
      "After insert: ['apple', 'orange', 'banana', 'cherry', 'mango']\n",
      "After remove: ['apple', 'orange', 'cherry', 'mango']\n",
      "Popped element: cherry\n",
      "After pop: ['apple', 'orange', 'mango']\n",
      "After sort: ['apple', 'mango', 'orange']\n",
      "After reverse: ['orange', 'mango', 'apple']\n",
      "Count of 'apple': 1\n",
      "Index of 'mango': 1\n"
     ]
    }
   ],
   "source": [
    "fruits = [\"apple\", \"banana\", \"cherry\"]\n",
    "print(\"Original:\", fruits)\n",
    "\n",
    "fruits.append(\"mango\")\n",
    "print(\"After append:\", fruits)\n",
    "\n",
    "fruits.insert(1, \"orange\")\n",
    "print(\"After insert:\", fruits)\n",
    "\n",
    "fruits.remove(\"banana\")\n",
    "print(\"After remove:\", fruits)\n",
    "\n",
    "popped = fruits.pop(2)\n",
    "print(\"Popped element:\", popped)\n",
    "print(\"After pop:\", fruits)\n",
    "\n",
    "fruits.sort()\n",
    "print(\"After sort:\", fruits)\n",
    "\n",
    "fruits.reverse()\n",
    "print(\"After reverse:\", fruits)\n",
    "\n",
    "print(\"Count of 'apple':\", fruits.count(\"apple\"))\n",
    "print(\"Index of 'mango':\", fruits.index(\"mango\"))"
   ]
  },
  {
   "cell_type": "markdown",
   "id": "0e36cbad",
   "metadata": {},
   "source": [
    "## 3. Practice Questions"
   ]
  },
  {
   "cell_type": "markdown",
   "id": "5856932b",
   "metadata": {},
   "source": [
    "### Q1. Count occurrences of a specific value in a list using loops (without built-in functions)"
   ]
  },
  {
   "cell_type": "code",
   "execution_count": 9,
   "id": "9aaa97fc",
   "metadata": {},
   "outputs": [
    {
     "name": "stdout",
     "output_type": "stream",
     "text": [
      "Occurrences of 2 : 4\n"
     ]
    }
   ],
   "source": [
    "lst = [1, 2, 3, 2, 4, 2, 5, 2]\n",
    "target = 2\n",
    "count = 0\n",
    "\n",
    "for i in lst:\n",
    "    if i == target:\n",
    "        count += 1\n",
    "\n",
    "print(\"Occurrences of\", target, \":\", count)"
   ]
  },
  {
   "cell_type": "markdown",
   "id": "eb856548",
   "metadata": {},
   "source": [
    "### Q2. Find average of a list of integers without using `len()` or `sum()` (only loops)"
   ]
  },
  {
   "cell_type": "code",
   "execution_count": 10,
   "id": "27f94e73",
   "metadata": {},
   "outputs": [
    {
     "name": "stdout",
     "output_type": "stream",
     "text": [
      "Average: 30.0\n"
     ]
    }
   ],
   "source": [
    "lst = [10, 20, 30, 40, 50]\n",
    "total = 0\n",
    "count = 0\n",
    "\n",
    "for i in lst:\n",
    "    total += i\n",
    "    count += 1\n",
    "\n",
    "average = total / count\n",
    "print(\"Average:\", average)"
   ]
  }
 ],
 "metadata": {
  "kernelspec": {
   "display_name": "ANK",
   "language": "python",
   "name": "python3"
  },
  "language_info": {
   "codemirror_mode": {
    "name": "ipython",
    "version": 3
   },
   "file_extension": ".py",
   "mimetype": "text/x-python",
   "name": "python",
   "nbconvert_exporter": "python",
   "pygments_lexer": "ipython3",
   "version": "3.10.15"
  }
 },
 "nbformat": 4,
 "nbformat_minor": 5
}
