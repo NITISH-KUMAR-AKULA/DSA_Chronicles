{
 "cells": [
  {
   "cell_type": "markdown",
   "id": "3569a3db",
   "metadata": {},
   "source": [
    "# Python Language"
   ]
  },
  {
   "cell_type": "markdown",
   "id": "711a7a69",
   "metadata": {},
   "source": [
    "###  For What Python is Used???"
   ]
  },
  {
   "cell_type": "markdown",
   "id": "334cbba7",
   "metadata": {},
   "source": [
    "1. Web Devolopment\n",
    "2. Data Analytics\n",
    "3. AI & ML\n",
    "4. Scripting"
   ]
  },
  {
   "cell_type": "markdown",
   "id": "8d7f9d28",
   "metadata": {},
   "source": [
    "### Python Basic Datatypes"
   ]
  },
  {
   "cell_type": "markdown",
   "id": "f8fca565",
   "metadata": {},
   "source": [
    "## Integer Values"
   ]
  },
  {
   "cell_type": "markdown",
   "id": "7d6d7db7",
   "metadata": {},
   "source": [
    "### integer is a data types which is the indefication of whole numbers includes Positive and Negative"
   ]
  },
  {
   "cell_type": "code",
   "execution_count": 3,
   "id": "d8f9ccef",
   "metadata": {},
   "outputs": [],
   "source": [
    "# example\n",
    "variable = 1\n",
    "\n",
    "variable2 = 124\n",
    "\n",
    "variable3 = -123"
   ]
  },
  {
   "cell_type": "markdown",
   "id": "a2fe67ee",
   "metadata": {},
   "source": [
    "## Float Values or Double Values"
   ]
  },
  {
   "cell_type": "markdown",
   "id": "6b8d46c1",
   "metadata": {},
   "source": [
    "### Float values are generally the Decimal Values "
   ]
  },
  {
   "cell_type": "code",
   "execution_count": 5,
   "id": "6a38d52d",
   "metadata": {},
   "outputs": [],
   "source": [
    "# example\n",
    "float_varibale = 2.3\n",
    "\n",
    "float_variable2 = 3.4542532"
   ]
  },
  {
   "cell_type": "markdown",
   "id": "19139727",
   "metadata": {},
   "source": [
    "## CHAR"
   ]
  },
  {
   "cell_type": "markdown",
   "id": "6bc370fe",
   "metadata": {},
   "source": [
    "### CHAR Is Basically a Single values insie a ' ' or \" \""
   ]
  },
  {
   "cell_type": "code",
   "execution_count": 7,
   "id": "facb94f5",
   "metadata": {},
   "outputs": [],
   "source": [
    "# Example\n",
    "char_1 = 'A'\n",
    "\n",
    "char_2 = \"A\""
   ]
  },
  {
   "cell_type": "markdown",
   "id": "f306c681",
   "metadata": {},
   "source": [
    "## String"
   ]
  },
  {
   "cell_type": "markdown",
   "id": "6f0c9007",
   "metadata": {},
   "source": [
    "### Combination of Chars in \" \" or ' ' is called as String"
   ]
  },
  {
   "cell_type": "code",
   "execution_count": 8,
   "id": "1da820e0",
   "metadata": {},
   "outputs": [],
   "source": [
    "# example\n",
    "string_1 = \"ABCD3EF\"\n",
    "\n",
    "STRING_2 = 'ABCDEFGH'"
   ]
  },
  {
   "cell_type": "markdown",
   "id": "d92644b6",
   "metadata": {},
   "source": [
    "## Boolean "
   ]
  },
  {
   "cell_type": "markdown",
   "id": "eb2dae13",
   "metadata": {},
   "source": [
    "### Boolean data types is a type of Data that is indentified as True or False\n",
    "\n",
    "1. True  == 1 \n",
    "2. False == 0,0.0,\"\"(empty String)"
   ]
  },
  {
   "cell_type": "markdown",
   "id": "8990c500",
   "metadata": {},
   "source": [
    "## Variable "
   ]
  },
  {
   "cell_type": "markdown",
   "id": "edad1ff1",
   "metadata": {},
   "source": [
    "## For nw lets just understand Varibale is something that stored data or value in it "
   ]
  },
  {
   "cell_type": "markdown",
   "id": "1bf921a8",
   "metadata": {},
   "source": [
    "A variable is like a named box in your computer’s memory.\n",
    "\n",
    "The name is what you call the box (e.g., age).\n",
    "\n",
    "The value is what’s stored inside the box (e.g., 21).\n",
    "\n",
    "The data type tells what kind of thing is inside (number, text, list, etc.).\n",
    "\n",
    "When you assign something like age = 21,\n",
    "\n",
    " Python makes a box called age and puts the value 21 inside it.\n",
    "Whenever you use age later, Python looks inside that box and gives you the value."
   ]
  },
  {
   "cell_type": "code",
   "execution_count": 9,
   "id": "683f07c0",
   "metadata": {},
   "outputs": [
    {
     "name": "stdout",
     "output_type": "stream",
     "text": [
      "I am 21 years old.\n",
      "Now I am 22 years old.\n"
     ]
    }
   ],
   "source": [
    "# Creating a variable\n",
    "age = 21  \n",
    "\n",
    "# Using it\n",
    "print(\"I am\", age, \"years old.\")\n",
    "\n",
    "# Changing the value\n",
    "age = 22  \n",
    "print(\"Now I am\", age, \"years old.\")\n"
   ]
  },
  {
   "cell_type": "markdown",
   "id": "1cf6e65f",
   "metadata": {},
   "source": [
    "Here, age first stored 21, then got updated to 22.\n",
    "So variables are just names pointing to stored values."
   ]
  },
  {
   "cell_type": "markdown",
   "id": "2c327563",
   "metadata": {},
   "source": [
    " ### How is each character stored?"
   ]
  },
  {
   "cell_type": "markdown",
   "id": "0989714c",
   "metadata": {},
   "source": [
    "Every character (like D, E, M, O, N) is internally stored as a number.\n",
    "This number comes from a character encoding system.\n",
    "\n",
    "The oldest system is ASCII (American Standard Code for Information Interchange).\n",
    "\n",
    "Example:\n",
    "\n",
    "'A' → 65\n",
    "\n",
    "'B' → 66\n",
    "\n",
    "'C' → 67\n",
    "\n",
    "'a' → 97\n",
    "\n",
    "' ' (space) → 32\n",
    "\n",
    "So, when you write \"DEMON\", Python stores it as a sequence of numbers:"
   ]
  },
  {
   "cell_type": "markdown",
   "id": "84144afa",
   "metadata": {},
   "source": [
    "In Python 3, strings are stored as Unicode (which is like a superset of ASCII).\n",
    "\n",
    "ASCII covers only 128 characters (English letters, digits, symbols).\n",
    "\n",
    "Unicode covers all languages (Hindi, Chinese, emojis, etc.).\n",
    "\n",
    "So if your string only has English letters, Python still uses Unicode,\n",
    "but the values match ASCII for English characters."
   ]
  },
  {
   "cell_type": "markdown",
   "id": "7e3dee37",
   "metadata": {},
   "source": [
    "## print() is a Python function used to show output on the screen."
   ]
  },
  {
   "cell_type": "code",
   "execution_count": 10,
   "id": "8572e030",
   "metadata": {},
   "outputs": [
    {
     "name": "stdout",
     "output_type": "stream",
     "text": [
      "Hello, Demon\n"
     ]
    }
   ],
   "source": [
    "name = \"Demon\"\n",
    "print(\"Hello,\", name)   # Shows a message with the variable value\n"
   ]
  },
  {
   "cell_type": "markdown",
   "id": "4cd19f2f",
   "metadata": {},
   "source": [
    "## What are Comments?\n",
    "\n",
    " Comments are notes you write in your code for humans, not for Python.\n",
    "\n",
    "Python ignores them while running the program.\n",
    "\n",
    "They’re used to explain code, make it readable, or disable code temporarily."
   ]
  },
  {
   "cell_type": "markdown",
   "id": "0fee0a0a",
   "metadata": {},
   "source": [
    "## Single-line comment\n",
    "\n",
    "Starts with #\n",
    "\n",
    "Anything after # on that line is ignored by Python."
   ]
  },
  {
   "cell_type": "code",
   "execution_count": 11,
   "id": "3a413e31",
   "metadata": {},
   "outputs": [
    {
     "name": "stdout",
     "output_type": "stream",
     "text": [
      "Hello, Demon!\n"
     ]
    }
   ],
   "source": [
    "# This is a single-line comment\n",
    "print(\"Hello, Demon!\")  # This prints a message\n"
   ]
  },
  {
   "cell_type": "markdown",
   "id": "282bf044",
   "metadata": {},
   "source": [
    "## Multi-line comment (using multiple #)\n",
    "\n",
    "Python doesn’t have a special multi-line comment symbol like other languages.\n",
    "So we just use # again and again."
   ]
  },
  {
   "cell_type": "code",
   "execution_count": 12,
   "id": "095b9c44",
   "metadata": {},
   "outputs": [
    {
     "name": "stdout",
     "output_type": "stream",
     "text": [
      "Comments example\n"
     ]
    }
   ],
   "source": [
    "# This program prints a message\n",
    "# Written by: Demon\n",
    "# Date: 01-Sep-2025\n",
    "\n",
    "print(\"Comments example\")\n"
   ]
  },
  {
   "cell_type": "markdown",
   "id": "db4905bd",
   "metadata": {},
   "source": [
    "## Docstring (multi-line string used as comment)\n",
    "\n",
    "If you put text inside triple quotes (''' or \"\"\") and don’t assign it to anything,\n",
    "it can act like a multi-line comment."
   ]
  },
  {
   "cell_type": "code",
   "execution_count": 13,
   "id": "5df83cd1",
   "metadata": {},
   "outputs": [
    {
     "name": "stdout",
     "output_type": "stream",
     "text": [
      "Using docstring as comment\n"
     ]
    }
   ],
   "source": [
    "\"\"\"\n",
    "This is a multi-line comment\n",
    "using triple quotes.\n",
    "Python will ignore it if not assigned.\n",
    "\"\"\"\n",
    "print(\"Using docstring as comment\")\n"
   ]
  },
  {
   "cell_type": "markdown",
   "id": "ae07c60b",
   "metadata": {},
   "source": [
    "### Note: Docstrings are actually meant for documentation (like describing functions and classes), not for casual comments. But many beginners use them as multi-line comments."
   ]
  },
  {
   "cell_type": "markdown",
   "id": "3dfdbb94",
   "metadata": {},
   "source": [
    "## What is Indentation?\n",
    "\n",
    "Indentation means adding spaces at the beginning of a line of code.\n",
    "In Python, indentation is not just for readability – it decides the structure of the code.\n",
    "\n",
    "Other languages (like C, Java) use {} brackets to group code,\n",
    "but Python uses indentation (spaces)."
   ]
  },
  {
   "cell_type": "markdown",
   "id": "038a9577",
   "metadata": {},
   "source": [
    "## Why Indentation?\n",
    "\n",
    "To tell Python which code belongs together.\n",
    "\n",
    "Without correct indentation, Python gives an IndentationError."
   ]
  },
  {
   "cell_type": "markdown",
   "id": "dfc134ea",
   "metadata": {},
   "source": [
    "## Correct indentation:"
   ]
  },
  {
   "cell_type": "code",
   "execution_count": 14,
   "id": "262b08df",
   "metadata": {},
   "outputs": [
    {
     "name": "stdout",
     "output_type": "stream",
     "text": [
      "This is inside the if block\n",
      "Still inside\n",
      "This is outside the if block\n"
     ]
    }
   ],
   "source": [
    "if True:\n",
    "    print(\"This is inside the if block\")\n",
    "    print(\"Still inside\")\n",
    "print(\"This is outside the if block\")\n"
   ]
  },
  {
   "cell_type": "markdown",
   "id": "58c04e69",
   "metadata": {},
   "source": [
    "## Wrong indentation:"
   ]
  },
  {
   "cell_type": "code",
   "execution_count": 15,
   "id": "20694fb8",
   "metadata": {},
   "outputs": [
    {
     "ename": "IndentationError",
     "evalue": "expected an indented block after 'if' statement on line 1 (2513114040.py, line 2)",
     "output_type": "error",
     "traceback": [
      "\u001b[1;36m  Cell \u001b[1;32mIn[15], line 2\u001b[1;36m\u001b[0m\n\u001b[1;33m    print(\"This will cause an error\")\u001b[0m\n\u001b[1;37m    ^\u001b[0m\n\u001b[1;31mIndentationError\u001b[0m\u001b[1;31m:\u001b[0m expected an indented block after 'if' statement on line 1\n"
     ]
    }
   ],
   "source": [
    "if True:\n",
    "print(\"This will cause an error\")\n"
   ]
  },
  {
   "cell_type": "markdown",
   "id": "7fddc76e",
   "metadata": {},
   "source": [
    "## How many spaces?\n",
    "\n",
    "Python standard: 4 spaces per indentation level.\n",
    "\n",
    "Do not mix tabs and spaces (it breaks code)."
   ]
  },
  {
   "cell_type": "markdown",
   "id": "e86ef2ae",
   "metadata": {},
   "source": []
  }
 ],
 "metadata": {
  "kernelspec": {
   "display_name": "base",
   "language": "python",
   "name": "python3"
  },
  "language_info": {
   "codemirror_mode": {
    "name": "ipython",
    "version": 3
   },
   "file_extension": ".py",
   "mimetype": "text/x-python",
   "name": "python",
   "nbconvert_exporter": "python",
   "pygments_lexer": "ipython3",
   "version": "3.12.7"
  }
 },
 "nbformat": 4,
 "nbformat_minor": 5
}
