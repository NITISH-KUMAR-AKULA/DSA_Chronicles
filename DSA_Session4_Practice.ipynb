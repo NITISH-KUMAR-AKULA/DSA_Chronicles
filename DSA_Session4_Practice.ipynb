{
 "cells": [
  {
   "cell_type": "markdown",
   "id": "4db04244",
   "metadata": {},
   "source": [
    "# 📘 DSA Session 4 - Lists, Dictionaries, and Sets\n",
    "\n",
    "This notebook contains explanations and practice examples from Session 4 of DSA learning. Each concept is explained with examples in separate cells for clarity."
   ]
  },
  {
   "cell_type": "markdown",
   "id": "b8b7952f",
   "metadata": {},
   "source": [
    "## 1. Lists Practice"
   ]
  },
  {
   "cell_type": "markdown",
   "id": "96dc0fb8",
   "metadata": {},
   "source": [
    "### 1.1 Finding Minimum Value in a List using Loops (without `min()`)"
   ]
  },
  {
   "cell_type": "code",
   "execution_count": 1,
   "id": "caa05edc",
   "metadata": {},
   "outputs": [
    {
     "name": "stdout",
     "output_type": "stream",
     "text": [
      "Minimum value: 3\n"
     ]
    }
   ],
   "source": [
    "lst = [12, 45, 3, 67, 23, 9]\n",
    "minimum = lst[0]\n",
    "for i in lst:\n",
    "    if i < minimum:\n",
    "        minimum = i\n",
    "print(\"Minimum value:\", minimum)"
   ]
  },
  {
   "cell_type": "markdown",
   "id": "e3c9c669",
   "metadata": {},
   "source": [
    "### 1.2 Finding Maximum Value in a List using Loops (without `max()`)"
   ]
  },
  {
   "cell_type": "code",
   "execution_count": 2,
   "id": "93b443b9",
   "metadata": {},
   "outputs": [
    {
     "name": "stdout",
     "output_type": "stream",
     "text": [
      "Maximum value: 67\n"
     ]
    }
   ],
   "source": [
    "lst = [12, 45, 3, 67, 23, 9]\n",
    "maximum = lst[0]\n",
    "for i in lst:\n",
    "    if i > maximum:\n",
    "        maximum = i\n",
    "print(\"Maximum value:\", maximum)"
   ]
  },
  {
   "cell_type": "markdown",
   "id": "ee76f802",
   "metadata": {},
   "source": [
    "### 1.3 Taking List as Input from User\n",
    "We can take input as a string, split it, and convert it into integers."
   ]
  },
  {
   "cell_type": "code",
   "execution_count": 4,
   "id": "8ecad661",
   "metadata": {},
   "outputs": [
    {
     "name": "stdout",
     "output_type": "stream",
     "text": [
      "List: [1, 2, 3, 4, 5]\n"
     ]
    }
   ],
   "source": [
    "# Example: Input -> 1 2 3 4 5\n",
    "user_input = input(\"Enter numbers separated by spaces: \")\n",
    "lst = list(map(int, user_input.split()))\n",
    "print(\"List:\", lst)"
   ]
  },
  {
   "cell_type": "markdown",
   "id": "936e6a9d",
   "metadata": {},
   "source": [
    "## 2. Dictionary"
   ]
  },
  {
   "cell_type": "markdown",
   "id": "2c608a53",
   "metadata": {},
   "source": [
    "### 2.1 What is a Dictionary?\n",
    "A **dictionary** stores data as key-value pairs. Keys must be unique and immutable (like strings, numbers, tuples)."
   ]
  },
  {
   "cell_type": "code",
   "execution_count": 5,
   "id": "5cf764fe",
   "metadata": {},
   "outputs": [
    {
     "name": "stdout",
     "output_type": "stream",
     "text": [
      "{'name': 'Alice', 'age': 21, 'marks': 88}\n"
     ]
    }
   ],
   "source": [
    "# Example dictionary\n",
    "student = {\"name\": \"Alice\", \"age\": 21, \"marks\": 88}\n",
    "print(student)"
   ]
  },
  {
   "cell_type": "markdown",
   "id": "0ff5deb6",
   "metadata": {},
   "source": [
    "### 2.2 Dictionary Methods & Attributes"
   ]
  },
  {
   "cell_type": "code",
   "execution_count": 6,
   "id": "f7d3b68b",
   "metadata": {},
   "outputs": [
    {
     "name": "stdout",
     "output_type": "stream",
     "text": [
      "dict_keys(['name', 'age', 'marks'])\n"
     ]
    }
   ],
   "source": [
    "student = {\"name\": \"Alice\", \"age\": 21, \"marks\": 88}\n",
    "print(student.keys())"
   ]
  },
  {
   "cell_type": "code",
   "execution_count": 7,
   "id": "431358b6",
   "metadata": {},
   "outputs": [
    {
     "name": "stdout",
     "output_type": "stream",
     "text": [
      "dict_values(['Alice', 21, 88])\n"
     ]
    }
   ],
   "source": [
    "print(student.values())"
   ]
  },
  {
   "cell_type": "code",
   "execution_count": 8,
   "id": "00995ec7",
   "metadata": {},
   "outputs": [
    {
     "name": "stdout",
     "output_type": "stream",
     "text": [
      "dict_items([('name', 'Alice'), ('age', 21), ('marks', 88)])\n"
     ]
    }
   ],
   "source": [
    "print(student.items())"
   ]
  },
  {
   "cell_type": "code",
   "execution_count": 9,
   "id": "4ea85634",
   "metadata": {},
   "outputs": [
    {
     "name": "stdout",
     "output_type": "stream",
     "text": [
      "Alice\n"
     ]
    }
   ],
   "source": [
    "print(student.get(\"name\"))"
   ]
  },
  {
   "cell_type": "code",
   "execution_count": 10,
   "id": "4ead4919",
   "metadata": {},
   "outputs": [
    {
     "name": "stdout",
     "output_type": "stream",
     "text": [
      "{'name': 'Alice', 'age': 22, 'marks': 88}\n"
     ]
    }
   ],
   "source": [
    "student.update({\"age\": 22})\n",
    "print(student)"
   ]
  },
  {
   "cell_type": "code",
   "execution_count": 11,
   "id": "e30912db",
   "metadata": {},
   "outputs": [
    {
     "name": "stdout",
     "output_type": "stream",
     "text": [
      "{'name': 'Alice', 'age': 22}\n"
     ]
    }
   ],
   "source": [
    "student.pop(\"marks\")\n",
    "print(student)"
   ]
  },
  {
   "cell_type": "code",
   "execution_count": 12,
   "id": "5562a8c7",
   "metadata": {},
   "outputs": [
    {
     "name": "stdout",
     "output_type": "stream",
     "text": [
      "{}\n"
     ]
    }
   ],
   "source": [
    "student.clear()\n",
    "print(student)"
   ]
  },
  {
   "cell_type": "markdown",
   "id": "35031625",
   "metadata": {},
   "source": [
    "### 2.3 Problem: Frequency of Each Value in a List using Dictionary"
   ]
  },
  {
   "cell_type": "code",
   "execution_count": 13,
   "id": "0a10b707",
   "metadata": {},
   "outputs": [
    {
     "name": "stdout",
     "output_type": "stream",
     "text": [
      "{1: 3, 2: 3, 3: 2, 4: 1}\n"
     ]
    }
   ],
   "source": [
    "x = [1,2,3,2,1,4,2,3,1]\n",
    "count = {}\n",
    "for i in x:\n",
    "    if i in count:\n",
    "        count[i] += 1\n",
    "    else:\n",
    "        count[i] = 1\n",
    "print(count)"
   ]
  },
  {
   "cell_type": "markdown",
   "id": "f1848b56",
   "metadata": {},
   "source": [
    "## 3. Sets"
   ]
  },
  {
   "cell_type": "markdown",
   "id": "05055d80",
   "metadata": {},
   "source": [
    "### 3.1 What is a Set?\n",
    "A **set** is an unordered collection of unique elements. No duplicates are allowed."
   ]
  },
  {
   "cell_type": "code",
   "execution_count": 14,
   "id": "2ed9905a",
   "metadata": {},
   "outputs": [
    {
     "name": "stdout",
     "output_type": "stream",
     "text": [
      "{1, 2, 3, 4, 5}\n"
     ]
    }
   ],
   "source": [
    "s = {1, 2, 3, 4, 4, 5}\n",
    "print(s)  # Duplicate 4 is removed"
   ]
  },
  {
   "cell_type": "markdown",
   "id": "4de866ae",
   "metadata": {},
   "source": [
    "### 3.2 Features of Sets\n",
    "- Unordered (no indexing)\n",
    "- No duplicates\n",
    "- Mutable (can add/remove elements)\n",
    "- Can perform mathematical set operations"
   ]
  },
  {
   "cell_type": "markdown",
   "id": "c22512ed",
   "metadata": {},
   "source": [
    "### 3.3 Set Methods & Attributes"
   ]
  },
  {
   "cell_type": "code",
   "execution_count": 15,
   "id": "dc140bee",
   "metadata": {},
   "outputs": [
    {
     "name": "stdout",
     "output_type": "stream",
     "text": [
      "{1, 2, 3, 4}\n"
     ]
    }
   ],
   "source": [
    "s = {1, 2, 3}\n",
    "s.add(4)\n",
    "print(s)"
   ]
  },
  {
   "cell_type": "code",
   "execution_count": 16,
   "id": "5a2c30c7",
   "metadata": {},
   "outputs": [
    {
     "name": "stdout",
     "output_type": "stream",
     "text": [
      "{1, 3, 4}\n"
     ]
    }
   ],
   "source": [
    "s.remove(2)\n",
    "print(s)"
   ]
  },
  {
   "cell_type": "code",
   "execution_count": 17,
   "id": "66043598",
   "metadata": {},
   "outputs": [
    {
     "name": "stdout",
     "output_type": "stream",
     "text": [
      "{1, 3, 4}\n"
     ]
    }
   ],
   "source": [
    "s.discard(10)  # No error if element not found\n",
    "print(s)"
   ]
  },
  {
   "cell_type": "code",
   "execution_count": 18,
   "id": "33cd10d9",
   "metadata": {},
   "outputs": [
    {
     "name": "stdout",
     "output_type": "stream",
     "text": [
      "Popped: 1\n",
      "{3, 4}\n"
     ]
    }
   ],
   "source": [
    "popped = s.pop()\n",
    "print(\"Popped:\", popped)\n",
    "print(s)"
   ]
  },
  {
   "cell_type": "code",
   "execution_count": 19,
   "id": "e762a18b",
   "metadata": {},
   "outputs": [
    {
     "name": "stdout",
     "output_type": "stream",
     "text": [
      "Union: {1, 2, 3, 4, 5}\n"
     ]
    }
   ],
   "source": [
    "a = {1, 2, 3}\n",
    "b = {3, 4, 5}\n",
    "print(\"Union:\", a.union(b))"
   ]
  },
  {
   "cell_type": "code",
   "execution_count": 20,
   "id": "174ea25b",
   "metadata": {},
   "outputs": [
    {
     "name": "stdout",
     "output_type": "stream",
     "text": [
      "Intersection: {3}\n"
     ]
    }
   ],
   "source": [
    "print(\"Intersection:\", a.intersection(b))"
   ]
  },
  {
   "cell_type": "code",
   "execution_count": 21,
   "id": "8bcd1f9e",
   "metadata": {},
   "outputs": [
    {
     "name": "stdout",
     "output_type": "stream",
     "text": [
      "Difference (a-b): {1, 2}\n"
     ]
    }
   ],
   "source": [
    "print(\"Difference (a-b):\", a.difference(b))"
   ]
  },
  {
   "cell_type": "code",
   "execution_count": 22,
   "id": "01d14739",
   "metadata": {},
   "outputs": [
    {
     "name": "stdout",
     "output_type": "stream",
     "text": [
      "Is a subset of b? False\n"
     ]
    }
   ],
   "source": [
    "print(\"Is a subset of b?\", a.issubset(b))"
   ]
  },
  {
   "cell_type": "code",
   "execution_count": 23,
   "id": "a160563b",
   "metadata": {},
   "outputs": [
    {
     "name": "stdout",
     "output_type": "stream",
     "text": [
      "Is a superset of b? False\n"
     ]
    }
   ],
   "source": [
    "print(\"Is a superset of b?\", a.issuperset(b))"
   ]
  }
 ],
 "metadata": {
  "kernelspec": {
   "display_name": "base",
   "language": "python",
   "name": "python3"
  },
  "language_info": {
   "codemirror_mode": {
    "name": "ipython",
    "version": 3
   },
   "file_extension": ".py",
   "mimetype": "text/x-python",
   "name": "python",
   "nbconvert_exporter": "python",
   "pygments_lexer": "ipython3",
   "version": "3.12.7"
  }
 },
 "nbformat": 4,
 "nbformat_minor": 5
}
